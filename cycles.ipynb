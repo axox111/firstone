{
 "cells": [
  {
   "cell_type": "code",
   "execution_count": 1,
   "id": "7b3c3975",
   "metadata": {},
   "outputs": [
    {
     "name": "stdout",
     "output_type": "stream",
     "text": [
      "n = 7\n",
      "m = 7\n",
      "7\n"
     ]
    }
   ],
   "source": [
    "# 89 а) Используя алгоритм Евклида, найти наибольший общий делитель\n",
    "import math\n",
    "\n",
    "n = int(input(\"n = \"))\n",
    "m = int(input(\"m = \"))\n",
    "if m <= 0 or n <= 0:\n",
    "   print(\"m и/или n должны быть больше нуля\")\n",
    "else:\n",
    "  r = m % n\n",
    "  while m % n != 0:\n",
    "    r = m % n\n",
    "    m = n\n",
    "    n = r\n",
    "  print(n)"
   ]
  },
  {
   "cell_type": "markdown",
   "id": "53a7126e",
   "metadata": {},
   "source": [
    "182 Даны натуральное число n, целые числа a1 ...аn.\n",
    "Найти количество и сумму тех членов данной последовательности, которые делятся на 5 и не делятся на 7."
   ]
  },
  {
   "cell_type": "code",
   "execution_count": 42,
   "id": "5b4907e5",
   "metadata": {
    "scrolled": true
   },
   "outputs": [
    {
     "name": "stdout",
     "output_type": "stream",
     "text": [
      "n = 1\n",
      "количество элементов списка делимых на пять = 0 , а их сумма = 0\n",
      "количество элементов списка не делимых на семь = 1 , а их сумма = 1\n"
     ]
    }
   ],
   "source": [
    "n = int(input(\"n = \"))\n",
    "q = 0\n",
    "w = 0\n",
    "qq = 0\n",
    "ww = 0\n",
    "for i in range(1, n + 1):\n",
    "    if i % 5 == 0:\n",
    "        q += 1\n",
    "        w += i\n",
    "print(\"количество элементов списка делимых на пять =\", q, \", а их сумма =\", w)\n",
    "for ii in range(1, n + 1):\n",
    "    if ii % 7 != 0:\n",
    "        qq += 1\n",
    "        ww += ii\n",
    "print(\"количество элементов списка не делимых на семь =\", qq, \", а их сумма =\", ww)"
   ]
  },
  {
   "cell_type": "code",
   "execution_count": 73,
   "id": "7d3cc2f3",
   "metadata": {},
   "outputs": [
    {
     "name": "stdout",
     "output_type": "stream",
     "text": [
      "n = 1\n",
      "количество элементов списка делимых на пять = 0 , а их сумма = 0\n",
      "количество элементов списка не делимых на семь = 1 , а их сумма = 1\n"
     ]
    }
   ],
   "source": [
    "n = int(input(\"n = \"))\n",
    "s = 0\n",
    "q = 0 \n",
    "qq = 0\n",
    "ss = 0\n",
    "if n < 1:\n",
    "    print(\"n - Должно быть больше 0\")\n",
    "else:\n",
    "    for i in range(1, n + 1):\n",
    "        if i % 5 == 0:\n",
    "            q += 1\n",
    "            s += i\n",
    "        if i % 7 != 0:\n",
    "            qq += 1\n",
    "            ss += i\n",
    "    print(\"количество элементов списка делимых на пять =\", q, \", а их сумма =\", s)\n",
    "    print(\"количество элементов списка не делимых на семь =\", qq, \", а их сумма =\", ss)"
   ]
  },
  {
   "cell_type": "markdown",
   "id": "18269711",
   "metadata": {},
   "source": [
    "235 даны натуральные числа m и n. получить: (m!+n!) / (m+n)!"
   ]
  },
  {
   "cell_type": "code",
   "execution_count": 81,
   "id": "a038f968",
   "metadata": {},
   "outputs": [
    {
     "name": "stdout",
     "output_type": "stream",
     "text": [
      "check = 0.000397\n",
      "24\n",
      "120\n",
      "362880\n",
      "0.000397\n"
     ]
    }
   ],
   "source": [
    "import math\n",
    "\n",
    "m = 4\n",
    "n = 5\n",
    "mf = 1\n",
    "nf = 1\n",
    "mnf = 1\n",
    "check = (math.factorial(m) + math.factorial(n)) / math.factorial(m + n)\n",
    "print(\"check =\", round(check, 6))\n",
    "for i in range(1, m + 1):\n",
    "    mf *= i \n",
    "print(mf)\n",
    "for ii in range(1, n + 1):\n",
    "    nf *= ii\n",
    "print(nf)\n",
    "for iii in range(1, m + n + 1):\n",
    "    mnf *= iii\n",
    "print(mnf)\n",
    "result = (mf + nf) / mnf\n",
    "print(round(result, 6))\n"
   ]
  }
 ],
 "metadata": {
  "kernelspec": {
   "display_name": "Python 3 (ipykernel)",
   "language": "python",
   "name": "python3"
  },
  "language_info": {
   "codemirror_mode": {
    "name": "ipython",
    "version": 3
   },
   "file_extension": ".py",
   "mimetype": "text/x-python",
   "name": "python",
   "nbconvert_exporter": "python",
   "pygments_lexer": "ipython3",
   "version": "3.9.13"
  }
 },
 "nbformat": 4,
 "nbformat_minor": 5
}
