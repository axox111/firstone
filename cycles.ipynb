{
 "cells": [
  {
   "cell_type": "code",
   "execution_count": 40,
   "id": "7b3c3975",
   "metadata": {},
   "outputs": [
    {
     "name": "stdout",
     "output_type": "stream",
     "text": [
      "n = 7\n",
      "m = 7\n",
      "7\n"
     ]
    }
   ],
   "source": [
    "# 89 а) Используя алгоритм Евклида, найти наибольший общий делитель\n",
    "import math\n",
    "\n",
    "n = int(input(\"n = \"))\n",
    "m = int(input(\"m = \"))\n",
    "if m <= 0 or n <= 0:\n",
    "   print(\"m и/или n должны быть больше нуля\")\n",
    "else:\n",
    "  r = m % n\n",
    "  while m % n != 0:\n",
    "    r = m % n\n",
    "    m = n\n",
    "    n = r\n",
    "  print(n)"
   ]
  },
  {
   "cell_type": "markdown",
   "id": "53a7126e",
   "metadata": {},
   "source": [
    "182 Даны натуральное число n, целые числа a1 ...аn.\n",
    "Найти количество и сумму тех членов данной последовательности, которые делятся на 5 и не делятся на 7."
   ]
  },
  {
   "cell_type": "code",
   "execution_count": 131,
   "id": "f44fcb9c",
   "metadata": {},
   "outputs": [
    {
     "name": "stdout",
     "output_type": "stream",
     "text": [
      "a = 88\n",
      "n = 888\n",
      "количество элементов списка делимых на пять = 160 , а их сумма = 78000\n",
      "количество элементов списка не делимых на семь = 687 , а их сумма = 335427\n"
     ]
    }
   ],
   "source": [
    "a = int(input(\"a = \"))\n",
    "n = int(input(\"n = \"))\n",
    "q = 0\n",
    "w = 0\n",
    "qq = 0\n",
    "ww = 0\n",
    "for i in range(a, n + 1):\n",
    "    if i % 5 == 0:\n",
    "        q += 1\n",
    "        w += i\n",
    "print(\"количество элементов списка делимых на пять =\", q, \", а их сумма =\", w)\n",
    "for ii in range(a, n + 1):\n",
    "    if ii % 7 != 0:\n",
    "        qq += 1\n",
    "        ww += ii\n",
    "print(\"количество элементов списка не делимых на семь =\", qq, \", а их сумма =\", ww)"
   ]
  },
  {
   "cell_type": "markdown",
   "id": "c1f26d1a",
   "metadata": {},
   "source": [
    "198"
   ]
  },
  {
   "cell_type": "markdown",
   "id": "71e2ba79",
   "metadata": {},
   "source": [
    "235"
   ]
  }
 ],
 "metadata": {
  "kernelspec": {
   "display_name": "Python 3 (ipykernel)",
   "language": "python",
   "name": "python3"
  },
  "language_info": {
   "codemirror_mode": {
    "name": "ipython",
    "version": 3
   },
   "file_extension": ".py",
   "mimetype": "text/x-python",
   "name": "python",
   "nbconvert_exporter": "python",
   "pygments_lexer": "ipython3",
   "version": "3.9.13"
  }
 },
 "nbformat": 4,
 "nbformat_minor": 5
}
