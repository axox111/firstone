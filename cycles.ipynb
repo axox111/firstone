{
 "cells": [
  {
   "cell_type": "code",
   "execution_count": 1,
   "id": "7b3c3975",
   "metadata": {},
   "outputs": [
    {
     "name": "stdout",
     "output_type": "stream",
     "text": [
      "n = 7\n",
      "m = 7\n",
      "7\n"
     ]
    }
   ],
   "source": [
    "# 89 а) Используя алгоритм Евклида, найти наибольший общий делитель\n",
    "import math\n",
    "\n",
    "n = int(input(\"n = \"))\n",
    "m = int(input(\"m = \"))\n",
    "if m <= 0 or n <= 0:\n",
    "   print(\"m и/или n должны быть больше нуля\")\n",
    "else:\n",
    "  r = m % n\n",
    "  while m % n != 0:\n",
    "    r = m % n\n",
    "    m = n\n",
    "    n = r\n",
    "  print(n)"
   ]
  },
  {
   "cell_type": "markdown",
   "id": "53a7126e",
   "metadata": {},
   "source": [
    "182 Даны натуральное число n, целые числа a1 ...аn.\n",
    "Найти количество и сумму тех членов данной последовательности, которые делятся на 5 и не делятся на 7."
   ]
  },
  {
   "cell_type": "code",
   "execution_count": null,
   "id": "5b4907e5",
   "metadata": {
    "scrolled": true
   },
   "outputs": [],
   "source": [
    "n = int(input(\"n = \"))\n",
    "q = 0\n",
    "w = 0\n",
    "qq = 0\n",
    "ww = 0\n",
    "for i in range(1, n + 1):\n",
    "    if i % 5 == 0:\n",
    "        q += 1\n",
    "        w += i\n",
    "    elif i % 7 != 0:\n",
    "        qq += 1\n",
    "        ww += i\n",
    "        print(qq, ww)\n",
    "#print(\"количество элементов списка делимых на пять =\", q, \", а их сумма =\", w)\n",
    "#for ii in range(a, n + 1):\n",
    "#    if ii % 7 != 0:\n",
    "#        qq += 1\n",
    "#        ww += ii\n",
    "#print(\"количество элементов списка не делимых на семь =\", qq, \", а их сумма =\", ww)"
   ]
  },
  {
   "cell_type": "code",
   "execution_count": 28,
   "id": "b7ae88e8",
   "metadata": {},
   "outputs": [
    {
     "name": "stdout",
     "output_type": "stream",
     "text": [
      "30 3\n",
      "99 13\n"
     ]
    }
   ],
   "source": [
    "s = 0 #summa\n",
    "q = 0 #количество\n",
    "qq = 0\n",
    "ss = 0\n",
    "for i in range(1, 15 + 1):\n",
    "    if i % 5 == 0:\n",
    "        q += 1\n",
    "        s += i\n",
    "    if i % 7 != 0:\n",
    "        qq += 1\n",
    "        ss += i\n",
    "print(s, q)\n",
    "print(ss, qq)"
   ]
  },
  {
   "cell_type": "markdown",
   "id": "18269711",
   "metadata": {},
   "source": [
    "235 даны натуральные числа m и n. получить: (m!+n!) / (m+n)!"
   ]
  }
 ],
 "metadata": {
  "kernelspec": {
   "display_name": "Python 3 (ipykernel)",
   "language": "python",
   "name": "python3"
  },
  "language_info": {
   "codemirror_mode": {
    "name": "ipython",
    "version": 3
   },
   "file_extension": ".py",
   "mimetype": "text/x-python",
   "name": "python",
   "nbconvert_exporter": "python",
   "pygments_lexer": "ipython3",
   "version": "3.9.13"
  }
 },
 "nbformat": 4,
 "nbformat_minor": 5
}
