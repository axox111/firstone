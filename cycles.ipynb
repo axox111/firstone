{
 "cells": [
  {
   "cell_type": "code",
   "execution_count": 28,
   "id": "f393f2c6",
   "metadata": {},
   "outputs": [
    {
     "name": "stdout",
     "output_type": "stream",
     "text": [
      "n = 75\n",
      "m = 75\n",
      "75\n"
     ]
    }
   ],
   "source": [
    "# 89 а) Используя алгоритм Евклида, найти наибольший общий делитель\n",
    "import math\n",
    "\n",
    "n = int(input(\"n = \"))\n",
    "m = int(input(\"m = \"))\n",
    "if m <= 0 or n <= 0:\n",
    "   print(\"m и/или n должны быть больше нуля\")\n",
    "else:\n",
    "  r = m % n\n",
    "  while m % n != 0:\n",
    "    r = m % n\n",
    "    m = n\n",
    "    n = r\n",
    "  print(n)"
   ]
  }
 ],
 "metadata": {
  "kernelspec": {
   "display_name": "Python 3 (ipykernel)",
   "language": "python",
   "name": "python3"
  },
  "language_info": {
   "codemirror_mode": {
    "name": "ipython",
    "version": 3
   },
   "file_extension": ".py",
   "mimetype": "text/x-python",
   "name": "python",
   "nbconvert_exporter": "python",
   "pygments_lexer": "ipython3",
   "version": "3.9.13"
  }
 },
 "nbformat": 4,
 "nbformat_minor": 5
}
