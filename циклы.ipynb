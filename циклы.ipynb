{
  "nbformat": 4,
  "nbformat_minor": 0,
  "metadata": {
    "colab": {
      "provenance": [],
      "authorship_tag": "ABX9TyN2P2s4mSSn+OHsqDbRjb/u",
      "include_colab_link": true
    },
    "kernelspec": {
      "name": "python3",
      "display_name": "Python 3"
    },
    "language_info": {
      "name": "python"
    }
  },
  "cells": [
    {
      "cell_type": "markdown",
      "metadata": {
        "id": "view-in-github",
        "colab_type": "text"
      },
      "source": [
        "<a href=\"https://colab.research.google.com/github/axox111/firstone/blob/main/%D1%86%D0%B8%D0%BA%D0%BB%D1%8B.ipynb\" target=\"_parent\"><img src=\"https://colab.research.google.com/assets/colab-badge.svg\" alt=\"Open In Colab\"/></a>"
      ]
    },
    {
      "cell_type": "code",
      "execution_count": null,
      "metadata": {
        "id": "4kd3Sq-EY1Ur"
      },
      "outputs": [],
      "source": [
        "#77a \n",
        "n = int(input (\"n = \"))\n",
        "a = 1\n",
        "for i in range(1, n + 1):\n",
        "  a *= 2\n",
        "print(a)"
      ]
    },
    {
      "cell_type": "code",
      "source": [
        "#77б\n",
        "import math\n",
        "\n",
        "n = int(input (\"n = \"))\n",
        "print(\"check = \", math.factorial(n))\n",
        "ii = 1\n",
        "for i in range(1 , n + 1):\n",
        "  ii *= i\n",
        "print(ii)"
      ],
      "metadata": {
        "id": "6uzv6zhAY4CJ"
      },
      "execution_count": null,
      "outputs": []
    },
    {
      "cell_type": "code",
      "source": [
        "#77в\n",
        "n = int(input (\"n = \"))\n",
        "v = 1\n",
        "for i in range(1, n + 1):\n",
        "  v *= (1 + 1 / i ** 2)\n",
        "print(v)"
      ],
      "metadata": {
        "id": "veqinmx3Y4OQ"
      },
      "execution_count": null,
      "outputs": []
    },
    {
      "cell_type": "code",
      "source": [
        "#80 Дано действительное число х. Вычислить\n",
        "import math\n",
        "\n",
        "x = int(input(\"x = \"))\n",
        "a = 0\n",
        "p = -1\n",
        "for i in range(1, 13 + 1, 2):\n",
        "  p *= -1\n",
        "  a += ((x ** i) / (math.factorial(i))) * p\n",
        "  print(round(a, 4), i)"
      ],
      "metadata": {
        "id": "NVH3BxVzY4Um"
      },
      "execution_count": null,
      "outputs": []
    },
    {
      "cell_type": "code",
      "source": [
        "#89 а) Используя алгоритм Евклида, найти наибольший общий делитель\n",
        "m = int(input(\"m = \"))\n",
        "n = int(input(\"n = \"))\n",
        "if m < n:\n",
        "  print(\"m должно быть больше n\")\n",
        "elif m <= 0 or n <= 0:\n",
        "    print(\"m и/или n должны быть больше нуля\")\n",
        "else:\n",
        "  r = m - m // n * n\n",
        "  while m % n != 0:\n",
        "    r = m - m // n * n\n",
        "    m = n\n",
        "    n = r\n",
        "  print(r)"
      ],
      "metadata": {
        "colab": {
          "base_uri": "https://localhost:8080/"
        },
        "id": "2CDsFP-EY4cC",
        "outputId": "6226f6bf-50ab-44db-d355-5562b05dd308"
      },
      "execution_count": 110,
      "outputs": [
        {
          "output_type": "stream",
          "name": "stdout",
          "text": [
            "m = 720\n",
            "n = 42\n",
            "6\n"
          ]
        }
      ]
    },
    {
      "cell_type": "code",
      "source": [
        "m = 15\n",
        "n = 6\n",
        "r = m - m // n * n\n",
        "while m % n != 0:\n",
        "  r = m - m // n * n\n",
        "  m = n\n",
        "  n = r\n",
        "print(r)"
      ],
      "metadata": {
        "colab": {
          "base_uri": "https://localhost:8080/"
        },
        "id": "_4GhI9Q6jkU7",
        "outputId": "31999693-005f-43c4-e722-c57f8547bc30"
      },
      "execution_count": 105,
      "outputs": [
        {
          "output_type": "stream",
          "name": "stdout",
          "text": [
            "3\n"
          ]
        }
      ]
    },
    {
      "cell_type": "code",
      "source": [
        "print(m % n) "
      ],
      "metadata": {
        "colab": {
          "base_uri": "https://localhost:8080/"
        },
        "id": "ctjENSgUqvtu",
        "outputId": "ec6f0237-92eb-4e29-c21f-ec71cf2f3608"
      },
      "execution_count": 96,
      "outputs": [
        {
          "output_type": "stream",
          "name": "stdout",
          "text": [
            "10\n"
          ]
        }
      ]
    }
  ]
}