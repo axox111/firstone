{
 "cells": [
  {
   "cell_type": "code",
   "execution_count": 2,
   "id": "67cf2455",
   "metadata": {},
   "outputs": [
    {
     "name": "stdout",
     "output_type": "stream",
     "text": [
      "m = 4\n",
      "n = 5\n",
      "0.000397\n"
     ]
    }
   ],
   "source": [
    "m = int(input(\"m = \"))\n",
    "n = int(input(\"n = \"))\n",
    "mf = 1\n",
    "nf = 1\n",
    "mnf = 1\n",
    "for i in range(1, m + n + 1):\n",
    "  mnf *= i\n",
    "  if i <= m:\n",
    "    mf *= i\n",
    "  if i <= n:\n",
    "    \n",
    "    nf *= i\n",
    "result = (mf + nf) / mnf\n",
    "print(round(result, 6))"
   ]
  },
  {
   "cell_type": "code",
   "execution_count": 28,
   "id": "58b5885e",
   "metadata": {},
   "outputs": [
    {
     "name": "stdout",
     "output_type": "stream",
     "text": [
      "m = 4\n",
      "n = 5\n",
      "0.000397\n"
     ]
    }
   ],
   "source": [
    "def fac(x):\n",
    "    y = 1 \n",
    "    for i in range(1, x + 1):\n",
    "        y *= i\n",
    "    return  y\n",
    "\n",
    "m = int(input(\"m = \"))\n",
    "n = int(input(\"n = \"))\n",
    "\n",
    "result = (fac(m) + fac(n)) / fac(m + n)\n",
    "print(round(result, 6))"
   ]
  }
 ],
 "metadata": {
  "kernelspec": {
   "display_name": "Python 3 (ipykernel)",
   "language": "python",
   "name": "python3"
  },
  "language_info": {
   "codemirror_mode": {
    "name": "ipython",
    "version": 3
   },
   "file_extension": ".py",
   "mimetype": "text/x-python",
   "name": "python",
   "nbconvert_exporter": "python",
   "pygments_lexer": "ipython3",
   "version": "3.9.13"
  }
 },
 "nbformat": 4,
 "nbformat_minor": 5
}
