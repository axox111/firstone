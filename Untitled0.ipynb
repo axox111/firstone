{
  "nbformat": 4,
  "nbformat_minor": 0,
  "metadata": {
    "colab": {
      "provenance": [],
      "authorship_tag": "ABX9TyNyK36INzgp0pWwIg/7QIFo"
    },
    "kernelspec": {
      "name": "python3",
      "display_name": "Python 3"
    },
    "language_info": {
      "name": "python"
    }
  },
  "cells": [
    {
      "cell_type": "code",
      "execution_count": null,
      "metadata": {
        "id": "ucAQ_GRSaj-M",
        "colab": {
          "base_uri": "https://localhost:8080/"
        },
        "outputId": "94a82ace-9f59-4380-b577-d7327bc12bd4"
      },
      "outputs": [
        {
          "output_type": "stream",
          "name": "stdout",
          "text": [
            "1 число -  2.99\n",
            "2 число -  10.79\n",
            "сумма -  13.78\n",
            "разность - -7.8\n",
            "произведение  32.26\n"
          ]
        }
      ],
      "source": [
        "#1 Даны два дейсвительных числа а и б. получить их \n",
        "#сумму, разность и произведение\n",
        "import random\n",
        "\n",
        "a = round(random.uniform (-5, 10 + 1), 2)\n",
        "b = round(random.uniform (-5, 10 + 1), 2)\n",
        "print(\"1 число - \", a)\n",
        "print(\"2 число - \", b)\n",
        "print(\"сумма - \", round(a + b,2 ))\n",
        "print(\"разность -\", round(a - b, 2))\n",
        "print(\"произведение \",  round(a * b, 2))"
      ]
    },
    {
      "cell_type": "code",
      "source": [
        "#2 даны дейсвительные числа х и у. получить (|x|-|y|)/(1+|xy|)\n",
        "import random\n",
        "\n",
        "x = round(random.uniform (-5, 10 + 1), 2)\n",
        "y = round(random.uniform (-5, 10 + 1), 2)\n",
        "print(\"1 - \", x)\n",
        "print(\"2 - \", y)\n",
        "print(\"result:\",round((abs(x) - abs(y)) / (1 + abs(x *y)), 2))"
      ],
      "metadata": {
        "id": "0oWa3iKOcKrW",
        "colab": {
          "base_uri": "https://localhost:8080/"
        },
        "outputId": "a66778f2-8839-42a1-8d08-8a7d827b465a"
      },
      "execution_count": null,
      "outputs": [
        {
          "output_type": "stream",
          "name": "stdout",
          "text": [
            "1 -  7.17\n",
            "2 -  6.9\n",
            "result: 0.01\n"
          ]
        }
      ]
    },
    {
      "cell_type": "code",
      "source": [
        "#3 дана длина ребра куба. найти объем куба и площадь его боковой поверхности\n",
        "import random\n",
        "\n",
        "a = random.randrange(1, 10 + 1)\n",
        "print(\"сторона куба -\", a)\n",
        "print(\"объем куба - \", a ** 3)\n",
        "print(\"пощадь боковой поверхности - \", a ** 2)"
      ],
      "metadata": {
        "id": "XEy_K3QSf-0Q",
        "colab": {
          "base_uri": "https://localhost:8080/"
        },
        "outputId": "4823ef02-3ebf-4685-bd27-cac0a11c260f"
      },
      "execution_count": null,
      "outputs": [
        {
          "output_type": "stream",
          "name": "stdout",
          "text": [
            "сторона куба - 8\n",
            "объем куба -  512\n",
            "пощадь боковой поверхности -  64\n"
          ]
        }
      ]
    },
    {
      "cell_type": "code",
      "source": [
        "#4 даны два дейсвительных положительных числа. найти среднее арифметическое \n",
        "#и среднее геометрическое этих чисел\n",
        "import random\n",
        "\n",
        "a = round(random.uniform(1, 10 + 1), 2)\n",
        "b = round(random.uniform(1, 10 + 1), 2)\n",
        "print(a , b)\n",
        "print(\"среднее арифметическое - \", (a + b) / 2)\n",
        "print(\"среднее геометрическое - \", (a * b) ** (1 / 2))"
      ],
      "metadata": {
        "id": "3VEsppash2ah",
        "colab": {
          "base_uri": "https://localhost:8080/"
        },
        "outputId": "e457bd9e-3e81-494e-ba15-2e171ab39604"
      },
      "execution_count": null,
      "outputs": [
        {
          "output_type": "stream",
          "name": "stdout",
          "text": [
            "3.99 8.12\n",
            "среднее арифметическое -  6.055\n",
            "среднее геометрическое -  5.691994378071715\n"
          ]
        }
      ]
    },
    {
      "cell_type": "code",
      "source": [
        "#5 даны два дейсвительных числа. найти среднее арифметическое этих чисел\n",
        "#и среднее геометрическое их модулей\n",
        "import random\n",
        "a = round(random.uniform(-5, 10 + 1), 2)\n",
        "b = round(random.uniform(-5, 10 + 1), 2)\n",
        "print(a, b)\n",
        "print(\"среднее арифметическое - \", (a + b) / 2)\n",
        "print(\"среднее арифметическое модулей - \", (abs(a) + abs(b)) / 2)"
      ],
      "metadata": {
        "id": "InXnRSVvjX-a",
        "colab": {
          "base_uri": "https://localhost:8080/"
        },
        "outputId": "cd2ad2d9-c87d-489e-f351-2fe60a5cf850"
      },
      "execution_count": null,
      "outputs": [
        {
          "output_type": "stream",
          "name": "stdout",
          "text": [
            "1.3 -1.67\n",
            "среднее арифметическое -  -0.18499999999999994\n",
            "среднее арифметическое модулей -  1.4849999999999999\n"
          ]
        }
      ]
    },
    {
      "cell_type": "code",
      "source": [
        "#6 даны катеты прямоугольного треугольника. найти его гипотенузу и площадь\n",
        "import random\n",
        "\n",
        "a = random.randrange(1, 10 + 1)\n",
        "b = random.randrange(1, 10 + 1)\n",
        "c = (a ** 2 + b ** 2) ** (1 / 2)\n",
        "print(\"катет1 - \", a)\n",
        "print(\"катет2 - \", b)\n",
        "print(\"гипотенуза - \", c)\n",
        "h = (a * b) / c\n",
        "S = (c * h) / 2\n",
        "print(\"площадь прямоугольного треугольника - \", S)"
      ],
      "metadata": {
        "id": "OWpKm8kdlR6S",
        "colab": {
          "base_uri": "https://localhost:8080/"
        },
        "outputId": "597b5995-0a21-463b-9faf-0eada0508d5e"
      },
      "execution_count": null,
      "outputs": [
        {
          "output_type": "stream",
          "name": "stdout",
          "text": [
            "катет1 -  2\n",
            "катет2 -  3\n",
            "гипотенуза -  3.605551275463989\n",
            "площадь прямоугольного треугольника -  3.0\n"
          ]
        }
      ]
    },
    {
      "cell_type": "code",
      "source": [
        "#7 смешано v1 литров воды температуры t1 с v2 литрами воды температуры t2.\n",
        "#найти объем и температуру образовавшейся смеси\n",
        "import random\n",
        "\n",
        "v1 = random.randrange(2, 10 + 1)\n",
        "t1 = random.randrange(15, 80 + 1)\n",
        "v2 = random.randrange(2, 10 + 1)\n",
        "t2 = random.randrange(15, 80 + 1)\n",
        "print(\"вода1 -\", v1, \", температура воды - \", t1)\n",
        "print(\"вода2 -\", v2, \", температура воды - \", t2)\n",
        "V = v1 + v2\n",
        "T = (v1 * t1 + v2 * t2) / V\n",
        "print(\"объем смеси - \", V)\n",
        "print(\"температура смеси - \", T)"
      ],
      "metadata": {
        "id": "ZNpFGXtKmNdc",
        "colab": {
          "base_uri": "https://localhost:8080/"
        },
        "outputId": "bb06fc17-c490-4cbb-fa95-e47cb06f8abf"
      },
      "execution_count": null,
      "outputs": [
        {
          "output_type": "stream",
          "name": "stdout",
          "text": [
            "вода1 - 4 , температура воды -  17\n",
            "вода2 - 3 , температура воды -  38\n",
            "объем смеси -  7\n",
            "температура смеси -  26.0\n"
          ]
        }
      ]
    },
    {
      "cell_type": "code",
      "source": [
        "#8 определить периметр правильного n-угольника, \n",
        "#описанного около окружности радиуса r\n",
        "import random \n",
        "import math\n",
        "\n",
        "n = random.randrange(3, 5 + 1)\n",
        "r = random.randrange(10, 40 + 1)\n",
        "print(n, \"-угольник, описаный около окружности с радиусом\", r)\n",
        "#как убрать пробел после переменной\n",
        "a = 2 * r * math.sin(math.radians(180) / n)\n",
        "P = n * a\n",
        "print(\"периметр равен \", P)"
      ],
      "metadata": {
        "colab": {
          "base_uri": "https://localhost:8080/"
        },
        "id": "2-boaOcZsVzu",
        "outputId": "322416c6-df64-4adc-c95b-6f1554a980d4"
      },
      "execution_count": null,
      "outputs": [
        {
          "output_type": "stream",
          "name": "stdout",
          "text": [
            "3 -угольник, описаный около окружности с радиусом 32\n",
            "периметр равен  166.27687752661222\n"
          ]
        }
      ]
    },
    {
      "cell_type": "code",
      "source": [
        "#9 три сопротивления R1 R2 R3 соединены паралельно. \n",
        "#Найти сопротивление соединения\n",
        "R1 = 9\n",
        "R2 = 67\n",
        "R3 = 82\n",
        "R = 1 / (1 / R1 + 1 / R2 + 1 / R3)\n",
        "print(R)"
      ],
      "metadata": {
        "colab": {
          "base_uri": "https://localhost:8080/"
        },
        "id": "yavfut7YAywG",
        "outputId": "60edb14d-12c7-4264-d855-3c66b53ebaf5"
      },
      "execution_count": null,
      "outputs": [
        {
          "output_type": "stream",
          "name": "stdout",
          "text": [
            "7.234235552304316\n"
          ]
        }
      ]
    },
    {
      "cell_type": "code",
      "source": [
        "#10 определить время падения камня на поверхность земли с высоты h\n",
        "import random\n",
        "\n",
        "h = random.randrange(10, 100 + 1)\n",
        "g = 9.80665\n",
        "t = ((2 * h) /  g) ** (1 / 2)\n",
        "print(\"высота - \", h)\n",
        "print(\"время падени - \", round(t, 2), \"сек.\")"
      ],
      "metadata": {
        "colab": {
          "base_uri": "https://localhost:8080/"
        },
        "id": "9w34YShEDRzr",
        "outputId": "03a92a49-5579-4f46-e325-48b7b80a2fc5"
      },
      "execution_count": null,
      "outputs": [
        {
          "output_type": "stream",
          "name": "stdout",
          "text": [
            "высота -  76\n",
            "время падени -  3.94 сек.\n"
          ]
        }
      ]
    },
    {
      "cell_type": "code",
      "source": [
        "#11 даны х у z, вычислить а, б если \n",
        "#(примеры скину картинкой в дискорде. надеюсь, вы не против)\n",
        "#а)\n",
        "import math\n",
        "\n",
        "x = int(input (\"x:\"))\n",
        "y = int(input (\"y:\"))\n",
        "z = int(input (\"z:\"))\n",
        "aa = (abs(x - 1) ** (1 / 2) - abs(y) ** (1 / 3)) / ( 1 + (x ** 2 /2 ) + y ** 2 /4)\n",
        "ab = x * (math.atan(z) + math.e ** (-1 * (x + 3)))\n",
        "print(\"aa - \", aa)\n",
        "print(\"ab - \", ab)"
      ],
      "metadata": {
        "colab": {
          "base_uri": "https://localhost:8080/"
        },
        "id": "9F-SR5yRGeeR",
        "outputId": "d061bd05-bacc-482f-a5c3-66252557842d"
      },
      "execution_count": 4,
      "outputs": [
        {
          "output_type": "stream",
          "name": "stdout",
          "text": [
            "x:2\n",
            "y:4\n",
            "z:6\n",
            "-0.08391443599545705\n",
            "2.8247711927587105\n"
          ]
        }
      ]
    },
    {
      "cell_type": "code",
      "source": [
        "#б)\n",
        "ba = (3 + math.e ** (y - 1)) / (1 + x ** 2 * abs(y - math.tan(z)))\n",
        "bb = 1 + abs(y - x) + (((y - x) ** 2) / 2) + ((abs(y - x) ** 3) / 3)\n",
        "print(\"бa - \", ba)\n",
        "print(\"бb - \", bb)"
      ],
      "metadata": {
        "colab": {
          "base_uri": "https://localhost:8080/"
        },
        "id": "PCxbJfXxK-hV",
        "outputId": "20a8f9e3-47f1-4349-c6a7-3d66a08364f7"
      },
      "execution_count": 6,
      "outputs": [
        {
          "output_type": "stream",
          "name": "stdout",
          "text": [
            "ba -  1.270948328973093\n",
            "bb -  7.666666666666666\n"
          ]
        }
      ]
    },
    {
      "cell_type": "code",
      "source": [
        "#в) sin ** 2 (x) = (1 - math.cos(2 * x)) / 2\n",
        "va = (1 + y) * ((x + y / (x ** 2 + 4)) / (math.e ** (-1 * x - 2) + 1 / (x ** 2 + 4)))\n",
        "vb = (1 + math.cos(y - 2)) / (x ** 4 / 2 + ((1 - math.cos(2 * z)) / 2))\n",
        "print(\"вa - \", va)\n",
        "print(\"вb - \", vb)"
      ],
      "metadata": {
        "colab": {
          "base_uri": "https://localhost:8080/"
        },
        "id": "ATHDAAkoL__g",
        "outputId": "5b1b99f0-19e9-486a-c315-3b934b1410c5"
      },
      "execution_count": 8,
      "outputs": [
        {
          "output_type": "stream",
          "name": "stdout",
          "text": [
            "va -  87.2200696094626\n",
            "vb -  0.07227629187821481\n"
          ]
        }
      ]
    },
    {
      "cell_type": "code",
      "source": [
        "#г tg ** 2 (a) = (1 - cos(2 * a)) / (1 + cos(2 * a))\n",
        "ga = y + (x / (y ** 2 + (abs(x ** 2 / (y + x ** 3 / 3)))))\n",
        "gb = (1 + ((1 - math.cos(2 * z / 2)) / (1 + math.cos(2 * z / 2))))\n",
        "print(\"га - \", ga)\n",
        "print(\"гb - \", gb)"
      ],
      "metadata": {
        "colab": {
          "base_uri": "https://localhost:8080/"
        },
        "id": "YhrLW-6LV-GF",
        "outputId": "d34cb26e-5f69-4fcf-a95b-8a12917db0b7"
      },
      "execution_count": 9,
      "outputs": [
        {
          "output_type": "stream",
          "name": "stdout",
          "text": [
            "га 4.120481927710843\n",
            "гb 1.020319516942427\n"
          ]
        }
      ]
    },
    {
      "cell_type": "code",
      "source": [
        "#д\n",
        "da = (2 * math.cos(x - math.pi / 6)) / (1 / 2 + (1 - math.cos(2 * y) / 2))\n",
        "db = 1 + (z ** 2 / (3 + z ** 2 / 5))\n",
        "print(\"да - \", da)\n",
        "print(\"дb - \", db)"
      ],
      "metadata": {
        "colab": {
          "base_uri": "https://localhost:8080/"
        },
        "id": "j5sr1ugNZrBS",
        "outputId": "b4810834-8dcb-4420-c3a8-18911db9396a"
      },
      "execution_count": 10,
      "outputs": [
        {
          "output_type": "stream",
          "name": "stdout",
          "text": [
            "да 0.11986009250727582\n",
            "дb 4.529411764705882\n"
          ]
        }
      ]
    },
    {
      "cell_type": "code",
      "source": [
        "#e cos ** 2 (x) = ((1 + cos(2 * x)) / 2)\n",
        "ea = ((1 + ((1 - math.cos(2 * (x + y))) / 2)) / (2 + abs(x - 2 * x / (1 + x ** 2 * y ** 2)))) + x\n",
        "eb = (1 + math.cos(2 * math.atan(1 / z))) / 2\n",
        "print(\"ea - \", ea)\n",
        "print(\"eb - \", eb)"
      ],
      "metadata": {
        "colab": {
          "base_uri": "https://localhost:8080/"
        },
        "id": "sWHmz4HkbN78",
        "outputId": "4dfa4682-4d0c-428d-dfe9-e4c754d98d4a"
      },
      "execution_count": 11,
      "outputs": [
        {
          "output_type": "stream",
          "name": "stdout",
          "text": [
            "ea -  2.273729477895289\n",
            "eb -  0.972972972972973\n"
          ]
        }
      ]
    },
    {
      "cell_type": "code",
      "source": [
        "#ж\n",
        "ja = math.log(abs((y - abs(x) ** (1 / 2)) * (x - (y / (z + x ** 2 / 4)))))\n",
        "jb = x - (x **2 / math.factorial(3)) + (x ** 5 / math.factorial(5))\n",
        "print(\"жa - \", ja)\n",
        "print(\"жb - \", jb)"
      ],
      "metadata": {
        "colab": {
          "base_uri": "https://localhost:8080/"
        },
        "id": "VfPk28vsdeLQ",
        "outputId": "5a182114-f8df-41a5-94b6-c4826749e6e4"
      },
      "execution_count": 12,
      "outputs": [
        {
          "output_type": "stream",
          "name": "stdout",
          "text": [
            "жa -  1.3067046368204924\n",
            "жb -  1.6\n"
          ]
        }
      ]
    },
    {
      "cell_type": "code",
      "source": [
        "#12. дана сторона равностороннего треугольника. найти площадь этого треугольника\n",
        "a = int(input (\"x:\"))\n",
        "s = (3 / 4 * a) ** (1 / 2)\n",
        "print(\"площадь треугольника - \", s ,\"см^2\")"
      ],
      "metadata": {
        "colab": {
          "base_uri": "https://localhost:8080/"
        },
        "id": "Vjw8GvFBi3Yv",
        "outputId": "37cfac7a-ffb5-41fd-d9d6-fefe2eae95ed"
      },
      "execution_count": 20,
      "outputs": [
        {
          "output_type": "stream",
          "name": "stdout",
          "text": [
            "x:5\n",
            "площадь треугольника -  1.9364916731037085 см^2\n"
          ]
        }
      ]
    },
    {
      "cell_type": "code",
      "source": [
        "#13.вычислите период колебания маятника длины l\n",
        "import math\n",
        "\n",
        "l = int(input (\"l: \"))\n",
        "g = 9.80665\n",
        "T = 2 * math.pi * (l / g) ** (1 / 2)\n",
        "print(\"период колебания матяника = \", round(T, 2), \"сек.\")"
      ],
      "metadata": {
        "colab": {
          "base_uri": "https://localhost:8080/"
        },
        "id": "TkdlWDEKj4bY",
        "outputId": "90c1cffb-5149-4c74-98de-7b1524200b47"
      },
      "execution_count": 28,
      "outputs": [
        {
          "output_type": "stream",
          "name": "stdout",
          "text": [
            "l: 9\n",
            "период колебания матяника =  6.02 сек.\n"
          ]
        }
      ]
    },
    {
      "cell_type": "code",
      "source": [
        "#14. определите силу притяжения F между двумя телами массы m1 и m2,\n",
        "#находящимися на расстоянии r друг от друга\n",
        "m1 = int(input(\"масса 1 = \"))\n",
        "m2 = int(input(\"масса 2 = \"))\n",
        "r = int(input(\"расстояние между объектами = \"))\n",
        "G = 6.67\n",
        "F = G * ((m1 * m2) / r **2)\n",
        "print(\"сила притяжения = \", F)"
      ],
      "metadata": {
        "colab": {
          "base_uri": "https://localhost:8080/"
        },
        "id": "IJBdoFtyl21a",
        "outputId": "b34126e1-33bf-4b1b-b2e3-90671cd84cc9"
      },
      "execution_count": 32,
      "outputs": [
        {
          "output_type": "stream",
          "name": "stdout",
          "text": [
            "масса 1 = 1000000\n",
            "масса 2 = 100\n",
            "расстояние между объектами = 1000000\n",
            "сила притяжения =  0.0006670000000000001\n"
          ]
        }
      ]
    },
    {
      "cell_type": "code",
      "source": [
        "#15. даны гипотенуза и катет прямоугольного треугольника\n",
        "#Найти второй катет и радиус вписанной окружности\n",
        "a = int(input(\"гипотенуза = \"))\n",
        "b = int(input(\"катет1 = \"))\n",
        "c1 = a ** 2 - b ** 2\n",
        "c = c1 ** (1 / 2)\n",
        "r = (c + b - a) / 2\n",
        "print(\"катет2 = \", c)\n",
        "print(\"радиус вписанной окружности = \", r)\n",
        "\n"
      ],
      "metadata": {
        "colab": {
          "base_uri": "https://localhost:8080/"
        },
        "id": "nDu1T04qo98N",
        "outputId": "d51a47db-fff1-41f4-a197-76d492c39cde"
      },
      "execution_count": 36,
      "outputs": [
        {
          "output_type": "stream",
          "name": "stdout",
          "text": [
            "гипотенуза = 200\n",
            "катет1 = 15\n",
            "катет2 =  199.43670675179132\n",
            "радиус вписанной окружности =  7.21835337589566\n"
          ]
        }
      ]
    },
    {
      "cell_type": "code",
      "source": [
        "#16. Известная длина окружности.\n",
        "#найти площадь круга, ограниченного этой окружностью\n",
        "import math\n",
        "\n",
        "l = int(input(\"длинна окружности = \"))\n",
        "S = l ** 2 / (4 * math.pi)\n",
        "print(\"площадь круга =\", S) "
      ],
      "metadata": {
        "colab": {
          "base_uri": "https://localhost:8080/"
        },
        "id": "Vj5QNPzuqNri",
        "outputId": "a9d2c1e0-bba7-47f6-e861-3bffe9cc201b"
      },
      "execution_count": 37,
      "outputs": [
        {
          "output_type": "stream",
          "name": "stdout",
          "text": [
            "длинна окружности = 20\n",
            "площадь круга = 31.830988618379067\n"
          ]
        }
      ]
    },
    {
      "cell_type": "code",
      "source": [
        "#17. найти плошадь кольца, внутренний радиус которого равен 20,\n",
        "#а внешний - заданному числу r (r > 20)\n",
        "import math\n",
        "\n",
        "inr = 20\n",
        "print(\"внутренний радиус = 20\")\n",
        "outr = int(input(\"внешний радиус = \"))\n",
        "if outr <= inr:\n",
        "  print(\"внешний радиус должен быть больше внутреннего\")\n",
        "else:\n",
        "  S = math.pi * (outr ** 2 - inr ** 2)\n",
        "  print(\"плошадь кольца = \", S)\n",
        "#а можно сделать, что бы каждый код был независим от предыдущих? "
      ],
      "metadata": {
        "colab": {
          "base_uri": "https://localhost:8080/"
        },
        "id": "jLh6dXvJtfWk",
        "outputId": "df0f5505-66ad-427b-df6d-8cdf487910e4"
      },
      "execution_count": 40,
      "outputs": [
        {
          "output_type": "stream",
          "name": "stdout",
          "text": [
            "внутренний радиус = 20\n",
            "внешний радиус = 21\n",
            "плошадь кольца =  128.8052987971815\n"
          ]
        }
      ]
    },
    {
      "cell_type": "code",
      "source": [
        "\n"
      ],
      "metadata": {
        "id": "4bjuEEhRvJGN"
      },
      "execution_count": null,
      "outputs": []
    }
  ]
}