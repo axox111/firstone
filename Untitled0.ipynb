{
  "nbformat": 4,
  "nbformat_minor": 0,
  "metadata": {
    "colab": {
      "provenance": [],
      "authorship_tag": "ABX9TyNPDZksPlCKrJ/YFCXmWRDD",
      "include_colab_link": true
    },
    "kernelspec": {
      "name": "python3",
      "display_name": "Python 3"
    },
    "language_info": {
      "name": "python"
    }
  },
  "cells": [
    {
      "cell_type": "markdown",
      "metadata": {
        "id": "view-in-github",
        "colab_type": "text"
      },
      "source": [
        "<a href=\"https://colab.research.google.com/github/axox111/firstone/blob/main/Untitled0.ipynb\" target=\"_parent\"><img src=\"https://colab.research.google.com/assets/colab-badge.svg\" alt=\"Open In Colab\"/></a>"
      ]
    },
    {
      "cell_type": "code",
      "execution_count": 71,
      "metadata": {
        "id": "ucAQ_GRSaj-M",
        "colab": {
          "base_uri": "https://localhost:8080/"
        },
        "outputId": "94a82ace-9f59-4380-b577-d7327bc12bd4"
      },
      "outputs": [
        {
          "output_type": "stream",
          "name": "stdout",
          "text": [
            "1 число -  2.99\n",
            "2 число -  10.79\n",
            "сумма -  13.78\n",
            "разность - -7.8\n",
            "произведение  32.26\n"
          ]
        }
      ],
      "source": [
        "#1 Даны два дейсвительных числа а и б. получить их \n",
        "#сумму, разность и произведение\n",
        "import random\n",
        "\n",
        "a = round(random.uniform (-5, 10 + 1), 2)\n",
        "b = round(random.uniform (-5, 10 + 1), 2)\n",
        "print(\"1 число - \", a)\n",
        "print(\"2 число - \", b)\n",
        "print(\"сумма - \", round(a + b,2 ))\n",
        "print(\"разность -\", round(a - b, 2))\n",
        "print(\"произведение \",  round(a * b, 2))"
      ]
    },
    {
      "cell_type": "code",
      "source": [
        "#2 даны дейсвительные числа х и у. получить (|x|-|y|)/(1+|xy|)\n",
        "import random\n",
        "\n",
        "x = round(random.uniform (-5, 10 + 1), 2)\n",
        "y = round(random.uniform (-5, 10 + 1), 2)\n",
        "print(\"1 - \", x)\n",
        "print(\"2 - \", y)\n",
        "print(\"result:\",round((abs(x) - abs(y)) / (1 + abs(x *y)), 2))"
      ],
      "metadata": {
        "id": "0oWa3iKOcKrW",
        "colab": {
          "base_uri": "https://localhost:8080/"
        },
        "outputId": "a66778f2-8839-42a1-8d08-8a7d827b465a"
      },
      "execution_count": 72,
      "outputs": [
        {
          "output_type": "stream",
          "name": "stdout",
          "text": [
            "1 -  7.17\n",
            "2 -  6.9\n",
            "result: 0.01\n"
          ]
        }
      ]
    },
    {
      "cell_type": "code",
      "source": [
        "#3 дана длина ребра куба. найти объем куба и площадь его боковой поверхности\n",
        "import random\n",
        "\n",
        "a = random.randrange(1, 10 + 1)\n",
        "print(\"сторона куба -\", a)\n",
        "print(\"объем куба - \", a ** 3)\n",
        "print(\"пощадь боковой поверхности - \", a ** 2)"
      ],
      "metadata": {
        "id": "XEy_K3QSf-0Q",
        "colab": {
          "base_uri": "https://localhost:8080/"
        },
        "outputId": "4823ef02-3ebf-4685-bd27-cac0a11c260f"
      },
      "execution_count": 73,
      "outputs": [
        {
          "output_type": "stream",
          "name": "stdout",
          "text": [
            "сторона куба - 8\n",
            "объем куба -  512\n",
            "пощадь боковой поверхности -  64\n"
          ]
        }
      ]
    },
    {
      "cell_type": "code",
      "source": [
        "#4 даны два дейсвительных положительных числа. найти среднее арифметическое \n",
        "#и среднее геометрическое этих чисел\n",
        "import random\n",
        "\n",
        "a = round(random.uniform(1, 10 + 1), 2)\n",
        "b = round(random.uniform(1, 10 + 1), 2)\n",
        "print(a , b)\n",
        "print(\"среднее арифметическое - \", (a + b) / 2)\n",
        "print(\"среднее геометрическое - \", (a * b) ** (1 / 2))"
      ],
      "metadata": {
        "id": "3VEsppash2ah",
        "colab": {
          "base_uri": "https://localhost:8080/"
        },
        "outputId": "e457bd9e-3e81-494e-ba15-2e171ab39604"
      },
      "execution_count": 74,
      "outputs": [
        {
          "output_type": "stream",
          "name": "stdout",
          "text": [
            "3.99 8.12\n",
            "среднее арифметическое -  6.055\n",
            "среднее геометрическое -  5.691994378071715\n"
          ]
        }
      ]
    },
    {
      "cell_type": "code",
      "source": [
        "#5 даны два дейсвительных числа. найти среднее арифметическое этих чисел\n",
        "#и среднее геометрическое их модулей\n",
        "import random\n",
        "a = round(random.uniform(-5, 10 + 1), 2)\n",
        "b = round(random.uniform(-5, 10 + 1), 2)\n",
        "print(a, b)\n",
        "print(\"среднее арифметическое - \", (a + b) / 2)\n",
        "print(\"среднее арифметическое модулей - \", (abs(a) + abs(b)) / 2)"
      ],
      "metadata": {
        "id": "InXnRSVvjX-a",
        "colab": {
          "base_uri": "https://localhost:8080/"
        },
        "outputId": "cd2ad2d9-c87d-489e-f351-2fe60a5cf850"
      },
      "execution_count": 75,
      "outputs": [
        {
          "output_type": "stream",
          "name": "stdout",
          "text": [
            "1.3 -1.67\n",
            "среднее арифметическое -  -0.18499999999999994\n",
            "среднее арифметическое модулей -  1.4849999999999999\n"
          ]
        }
      ]
    },
    {
      "cell_type": "code",
      "source": [
        "#6 даны катеты прямоугольного треугольника. найти его гипотенузу и площадь\n",
        "import random\n",
        "\n",
        "a = random.randrange(1, 10 + 1)\n",
        "b = random.randrange(1, 10 + 1)\n",
        "c = (a ** 2 + b ** 2) ** (1 / 2)\n",
        "print(\"катет1 - \", a)\n",
        "print(\"катет2 - \", b)\n",
        "print(\"гипотенуза - \", c)\n",
        "h = (a * b) / c\n",
        "S = (c * h) / 2\n",
        "print(\"площадь прямоугольного треугольника - \", S)"
      ],
      "metadata": {
        "id": "OWpKm8kdlR6S",
        "colab": {
          "base_uri": "https://localhost:8080/"
        },
        "outputId": "597b5995-0a21-463b-9faf-0eada0508d5e"
      },
      "execution_count": 76,
      "outputs": [
        {
          "output_type": "stream",
          "name": "stdout",
          "text": [
            "катет1 -  2\n",
            "катет2 -  3\n",
            "гипотенуза -  3.605551275463989\n",
            "площадь прямоугольного треугольника -  3.0\n"
          ]
        }
      ]
    },
    {
      "cell_type": "code",
      "source": [
        "#7 смешано v1 литров воды температуры t1 с v2 литрами воды температуры t2.\n",
        "#найти объем и температуру образовавшейся смеси\n",
        "import random\n",
        "\n",
        "v1 = random.randrange(2, 10 + 1)\n",
        "t1 = random.randrange(15, 80 + 1)\n",
        "v2 = random.randrange(2, 10 + 1)\n",
        "t2 = random.randrange(15, 80 + 1)\n",
        "print(\"вода1 -\", v1, \", температура воды - \", t1)\n",
        "print(\"вода2 -\", v2, \", температура воды - \", t2)\n",
        "V = v1 + v2\n",
        "T = (v1 * t1 + v2 * t2) / V\n",
        "print(\"объем смеси - \", V)\n",
        "print(\"температура смеси - \", T)"
      ],
      "metadata": {
        "id": "ZNpFGXtKmNdc",
        "colab": {
          "base_uri": "https://localhost:8080/"
        },
        "outputId": "bb06fc17-c490-4cbb-fa95-e47cb06f8abf"
      },
      "execution_count": 77,
      "outputs": [
        {
          "output_type": "stream",
          "name": "stdout",
          "text": [
            "вода1 - 4 , температура воды -  17\n",
            "вода2 - 3 , температура воды -  38\n",
            "объем смеси -  7\n",
            "температура смеси -  26.0\n"
          ]
        }
      ]
    },
    {
      "cell_type": "code",
      "source": [
        "#8 определить периметр правильного n-угольника, \n",
        "#описанного около окружности радиуса r\n",
        "import random \n",
        "import math\n",
        "\n",
        "n = random.randrange(3, 5 + 1)\n",
        "r = random.randrange(10, 40 + 1)\n",
        "print(n, \"-угольник, описаный около окружности с радиусом\", r)\n",
        "#как убрать пробел после переменной\n",
        "a = 2 * r * math.sin(math.radians(180) / n)\n",
        "P = n * a\n",
        "print(\"периметр равен \", P)"
      ],
      "metadata": {
        "colab": {
          "base_uri": "https://localhost:8080/"
        },
        "id": "2-boaOcZsVzu",
        "outputId": "322416c6-df64-4adc-c95b-6f1554a980d4"
      },
      "execution_count": 78,
      "outputs": [
        {
          "output_type": "stream",
          "name": "stdout",
          "text": [
            "3 -угольник, описаный около окружности с радиусом 32\n",
            "периметр равен  166.27687752661222\n"
          ]
        }
      ]
    },
    {
      "cell_type": "code",
      "source": [
        "#9 три сопротивления R1 R2 R3 соединены паралельно. \n",
        "#Найти сопротивление соединения\n",
        "R1 = 9\n",
        "R2 = 67\n",
        "R3 = 82\n",
        "R = 1 / (1 / R1 + 1 / R2 + 1 / R3)\n",
        "print(R)"
      ],
      "metadata": {
        "colab": {
          "base_uri": "https://localhost:8080/"
        },
        "id": "yavfut7YAywG",
        "outputId": "60edb14d-12c7-4264-d855-3c66b53ebaf5"
      },
      "execution_count": 79,
      "outputs": [
        {
          "output_type": "stream",
          "name": "stdout",
          "text": [
            "7.234235552304316\n"
          ]
        }
      ]
    },
    {
      "cell_type": "code",
      "source": [
        "#10 определить время падения камня на поверхность земли с высоты h\n",
        "import random\n",
        "\n",
        "h = random.randrange(10, 100 + 1)\n",
        "g = 9.80665\n",
        "t = ((2 * h) /  g) ** (1 / 2)\n",
        "print(\"высота - \", h)\n",
        "print(\"время падени - \", round(t, 2), \"сек.\")"
      ],
      "metadata": {
        "colab": {
          "base_uri": "https://localhost:8080/"
        },
        "id": "9w34YShEDRzr",
        "outputId": "03a92a49-5579-4f46-e325-48b7b80a2fc5"
      },
      "execution_count": 80,
      "outputs": [
        {
          "output_type": "stream",
          "name": "stdout",
          "text": [
            "высота -  76\n",
            "время падени -  3.94 сек.\n"
          ]
        }
      ]
    }
  ]
}