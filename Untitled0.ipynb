{
  "nbformat": 4,
  "nbformat_minor": 0,
  "metadata": {
    "colab": {
      "provenance": [],
      "authorship_tag": "ABX9TyMGRLfLeQshEuJPo0fvftq3",
      "include_colab_link": true
    },
    "kernelspec": {
      "name": "python3",
      "display_name": "Python 3"
    },
    "language_info": {
      "name": "python"
    }
  },
  "cells": [
    {
      "cell_type": "markdown",
      "metadata": {
        "id": "view-in-github",
        "colab_type": "text"
      },
      "source": [
        "<a href=\"https://colab.research.google.com/github/axox111/firstone/blob/main/Untitled0.ipynb\" target=\"_parent\"><img src=\"https://colab.research.google.com/assets/colab-badge.svg\" alt=\"Open In Colab\"/></a>"
      ]
    },
    {
      "cell_type": "code",
      "execution_count": null,
      "metadata": {
        "id": "ucAQ_GRSaj-M"
      },
      "outputs": [],
      "source": [
        "#1\n",
        "import random\n",
        "\n",
        "a = round(random.uniform (-5, 10 + 1), 2)\n",
        "b = round(random.uniform (-5, 10 + 1), 2)\n",
        "print(\"1 число - \", a)\n",
        "print(\"2 число - \", b)\n",
        "print(\"сумма - \", round(a + b,2 ))\n",
        "print(\"разность -\", round(a - b, 2))\n",
        "print(\"произведение \",  round(a * b, 2))"
      ]
    },
    {
      "cell_type": "code",
      "source": [
        "from google.colab import drive\n",
        "drive.mount('/content/drive')"
      ],
      "metadata": {
        "id": "wv1rKpbU9F9F"
      },
      "execution_count": null,
      "outputs": []
    },
    {
      "cell_type": "code",
      "source": [
        "#2\n",
        "import random\n",
        "\n",
        "x = round(random.uniform (-5, 10 + 1), 2)\n",
        "y = round(random.uniform (-5, 10 + 1), 2)\n",
        "print(\"1 - \", x)\n",
        "print(\"2 - \", y)\n",
        "print(\"result:\",round((abs(x) - abs(y)) / (1 + abs(x *y)), 2))"
      ],
      "metadata": {
        "id": "0oWa3iKOcKrW"
      },
      "execution_count": null,
      "outputs": []
    },
    {
      "cell_type": "code",
      "source": [
        "#3\n",
        "import random\n",
        "\n",
        "a = random.randrange(1, 10 + 1)\n",
        "print(\"сторона куба -\", a)\n",
        "print(\"объем куба - \", a ** 3)\n",
        "print(\"пощадь боковой поверхности - \", a ** 2)"
      ],
      "metadata": {
        "id": "XEy_K3QSf-0Q"
      },
      "execution_count": null,
      "outputs": []
    },
    {
      "cell_type": "code",
      "source": [
        "#4\n",
        "import random\n",
        "\n",
        "a = round(random.uniform(-5, 10 + 1), 2)\n",
        "b = round(random.uniform(-5, 10 + 1), 2)\n",
        "print(a , b)\n",
        "print(\"среднее арифметическое - \", (a + b) / 2)\n",
        "print(\"среднее геометрическое - \", (a * b) ** (1 / 2))"
      ],
      "metadata": {
        "id": "3VEsppash2ah"
      },
      "execution_count": null,
      "outputs": []
    },
    {
      "cell_type": "code",
      "source": [
        "#5\n",
        "import random\n",
        "a = round(random.uniform(-5, 10 + 1), 2)\n",
        "b = round(random.uniform(-5, 10 + 1), 2)\n",
        "print(a, b)\n",
        "print(\"среднее арифметическое - \", (a + b) / 2)\n",
        "print(\"среднее арифметическое модулей - \", (abs(a) + abs(b)) / 2)"
      ],
      "metadata": {
        "id": "InXnRSVvjX-a"
      },
      "execution_count": null,
      "outputs": []
    },
    {
      "cell_type": "code",
      "source": [
        "#6\n",
        "import random\n",
        "\n",
        "a = random.randrange(1, 10 + 1)\n",
        "b = random.randrange(1, 10 + 1)\n",
        "c = (a ** 2 + b ** 2) ** (1 / 2)\n",
        "print(\"катет1 - \", a)\n",
        "print(\"катет2 - \", b)\n",
        "print(\"гипотенуза - \", c)\n",
        "h = (a * b) / c\n",
        "S = (c * h) / 2\n",
        "print(\"площадь прямоугольного треугольника - \", S)"
      ],
      "metadata": {
        "id": "OWpKm8kdlR6S"
      },
      "execution_count": null,
      "outputs": []
    },
    {
      "cell_type": "code",
      "source": [
        "#7\n",
        "import random\n",
        "\n",
        "v1 = random.randrange(2, 10 + 1)\n",
        "t1 = random.randrange(15, 80 + 1)\n",
        "v2 = random.randrange(2, 10 + 1)\n",
        "t2 = random.randrange(15, 80 + 1)\n",
        "print(\"вода1 -\", v1, \", температура воды - \", t1)\n",
        "print(\"вода2 -\", v2, \", температура воды - \", t2)\n",
        "V = v1 + v2\n",
        "T = (v1 * t1 + v2 * t2) / V\n",
        "print(\"объем смеси - \", V)\n",
        "print(\"температура смеси - \", T)"
      ],
      "metadata": {
        "id": "ZNpFGXtKmNdc"
      },
      "execution_count": null,
      "outputs": []
    },
    {
      "cell_type": "code",
      "source": [
        "#8\n",
        "import random \n",
        "import math\n",
        "\n",
        "n = random.randrange(3, 5 + 1)\n",
        "r = random.randrange(10, 40 + 1)\n",
        "print(n, \"-угольник, описаный около окружности радуса\", r)\n",
        "#как убрать пробел после переменной\n",
        "a =  \n",
        "P = n * a\n",
        "print(\"периметр равен \", P)"
      ],
      "metadata": {
        "colab": {
          "base_uri": "https://localhost:8080/"
        },
        "id": "2-boaOcZsVzu",
        "outputId": "724698a4-3dca-4819-d17b-43482fe58380"
      },
      "execution_count": null,
      "outputs": [
        {
          "output_type": "stream",
          "name": "stdout",
          "text": [
            "5 -угольник, описаный около окружности радуса 31\n",
            "периметр равен  -307.4514445673659\n"
          ]
        }
      ]
    }
  ]
}